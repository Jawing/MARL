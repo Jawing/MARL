{
 "cells": [
  {
   "attachments": {},
   "cell_type": "markdown",
   "metadata": {},
   "source": [
    "# [Petting Zoo](https://pettingzoo.farama.org/environments/butterfly/) Notebook\n",
    "\n",
    "Includes examples of how to use the Petting Zoo environment with the Pistonball environment and the Knights Archers Zombies environment."
   ]
  },
  {
   "attachments": {},
   "cell_type": "markdown",
   "metadata": {},
   "source": [
    "To launch a Pistonball environment with agents taking random actions:"
   ]
  },
  {
   "cell_type": "code",
   "execution_count": 163,
   "metadata": {},
   "outputs": [],
   "source": [
    "#imports\n",
    "import time\n",
    "from pettingzoo.butterfly import pistonball_v6\n",
    "env = pistonball_v6.parallel_env(render_mode=\"human\")\n",
    "\n",
    "observations = env.reset()\n",
    "while env.agents:\n",
    "    actions = {agent: env.action_space(agent).sample() for agent in env.agents}  # this is where you would insert your policy\n",
    "    observations, rewards, terminations, truncations, infos = env.step(actions)\n",
    "    #Pause the game for 2 seconds to allow for human viewing\n",
    "    time.sleep(0.2)\n",
    "    env.render()\n",
    "env.close()"
   ]
  },
  {
   "attachments": {},
   "cell_type": "markdown",
   "metadata": {},
   "source": [
    "To launch a Knights Archers Zombies environment with interactive user input (see manual_policy.py, controls are WASD and space):"
   ]
  },
  {
   "cell_type": "code",
   "execution_count": 165,
   "metadata": {},
   "outputs": [],
   "source": [
    "import pygame\n",
    "from pettingzoo.butterfly import knights_archers_zombies_v10\n",
    "\n",
    "env = knights_archers_zombies_v10.env(render_mode=\"human\")\n",
    "env.reset()\n",
    "\n",
    "clock = pygame.time.Clock()\n",
    "manual_policy = knights_archers_zombies_v10.ManualPolicy(env)\n",
    "\n",
    "for agent in env.agent_iter():\n",
    "    clock.tick(env.metadata[\"render_fps\"])\n",
    "\n",
    "    observation, reward, termination, truncation, info = env.last()\n",
    "    if termination:\n",
    "        break\n",
    "    if agent == manual_policy.agent:\n",
    "        action = manual_policy(observation, agent)\n",
    "    else:\n",
    "        action = env.action_space(agent).sample()\n",
    "\n",
    "    env.step(action)\n",
    "\n",
    "env.close()"
   ]
  }
 ],
 "metadata": {
  "kernelspec": {
   "display_name": "py11",
   "language": "python",
   "name": "python3"
  },
  "language_info": {
   "codemirror_mode": {
    "name": "ipython",
    "version": 3
   },
   "file_extension": ".py",
   "mimetype": "text/x-python",
   "name": "python",
   "nbconvert_exporter": "python",
   "pygments_lexer": "ipython3",
   "version": "3.9.16"
  },
  "orig_nbformat": 4
 },
 "nbformat": 4,
 "nbformat_minor": 2
}
